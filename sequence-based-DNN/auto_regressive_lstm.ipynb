{
 "cells": [
  {
   "cell_type": "code",
   "execution_count": 12,
   "metadata": {},
   "outputs": [],
   "source": [
    "import pandas as pd\n",
    "import numpy as np\n",
    "from tensorflow.keras.preprocessing.text import Tokenizer\n",
    "from tensorflow.keras.preprocessing.sequence import pad_sequences\n",
    "from tensorflow.keras.utils import to_categorical\n",
    "from tensorflow.keras.models import Sequential, Model\n",
    "from tensorflow.keras.layers import Embedding, LSTM, Dense"
   ]
  },
  {
   "cell_type": "markdown",
   "source": [
    "PRE_PROCESS"
   ],
   "metadata": {
    "collapsed": false
   }
  },
  {
   "cell_type": "code",
   "execution_count": 13,
   "metadata": {
    "collapsed": false,
    "jupyter": {
     "outputs_hidden": false
    },
    "pycharm": {
     "name": "#%%\n"
    }
   },
   "outputs": [
    {
     "name": "stdout",
     "output_type": "stream",
     "text": [
      "                             name            type  \\\n",
      "0        \"A\" Cell Breeding Device      Spell Card   \n",
      "1              \"A\" Cell Incubator      Spell Card   \n",
      "2   \"A\" Cell Recombination Device      Spell Card   \n",
      "3          \"A\" Cell Scatter Burst      Spell Card   \n",
      "4      \"Infernoble Arms - Almace\"      Spell Card   \n",
      "5    \"Infernoble Arms - Durendal\"      Spell Card   \n",
      "6  \"Infernoble Arms - Hauteclere\"      Spell Card   \n",
      "7     \"Infernoble Arms - Joyeuse\"      Spell Card   \n",
      "8               1st Movement Solo      Spell Card   \n",
      "9                  3-Hump Lacooda  Effect Monster   \n",
      "\n",
      "                                                desc    atk     def  level  \\\n",
      "0  During each of your Standby Phases, put 1 A-Co...    0.0     0.0    0.0   \n",
      "1  Each time an A-Counter(s) is removed from play...    0.0     0.0    0.0   \n",
      "2  Target 1 face-up monster on the field; send 1 ...    0.0     0.0    0.0   \n",
      "3  Select 1 face-up \"Alien\" monster you control. ...    0.0     0.0    0.0   \n",
      "4  While this card is equipped to a monster: You ...    0.0     0.0    0.0   \n",
      "5  While this card is equipped to a monster: You ...    0.0     0.0    0.0   \n",
      "6  While this card is equipped to a monster: You ...    0.0     0.0    0.0   \n",
      "7  While this card is equipped to a monster: You ...    0.0     0.0    0.0   \n",
      "8  If you control no monsters: Special Summon 1 L...    0.0     0.0    0.0   \n",
      "9  If there are 3 face-up \"3-Hump Lacooda\" cards ...  500.0  1500.0    3.0   \n",
      "\n",
      "         race  \n",
      "0  Continuous  \n",
      "1  Continuous  \n",
      "2  Quick-Play  \n",
      "3  Quick-Play  \n",
      "4       Equip  \n",
      "5       Equip  \n",
      "6       Equip  \n",
      "7       Equip  \n",
      "8      Normal  \n",
      "9       Beast  \n"
     ]
    }
   ],
   "source": [
    "df = pd.read_csv(\"cards.csv\", usecols=['name', 'type', 'desc', 'atk', 'def', 'level', 'race'])\n",
    "df['atk'] = df['atk'].fillna(0)\n",
    "df['def'] = df['def'].fillna(0)\n",
    "df['level'] = df['level'].fillna(0)\n",
    "\n",
    "DELIM_TOKEN = \"DELIM\"\n",
    "df['text'] = df.apply(lambda row: f\"{DELIM_TOKEN} {row['name']} {DELIM_TOKEN} {row['type']} {DELIM_TOKEN} ATK {int(row['atk'])} {DELIM_TOKEN} DEF {int(row['def'])} {DELIM_TOKEN} Level {int(row['level'])} {DELIM_TOKEN} {row['race']} {DELIM_TOKEN}\", axis=1)\n",
    "\n",
    "print (len(df))\n",
    "\n",
    "# using all of them blows up my RAM\n",
    "sampled_entries = df['text'].sample(n=2000, random_state=1)\n",
    "print(len(sampled_entries))\n",
    "print(sampled_entries[:10])"
   ]
  },
  {
   "cell_type": "code",
   "execution_count": 17,
   "metadata": {
    "collapsed": false,
    "jupyter": {
     "outputs_hidden": false
    },
    "pycharm": {
     "name": "#%%\n"
    }
   },
   "outputs": [
    {
     "name": "stdout",
     "output_type": "stream",
     "text": [
      "|Kanan the Swordmistress|Normal Monster|A lady warrior armed with sword and shield, she floats lightly and stings sharply.|ATK 1400.0|DEF 1400.0|Level 4.0|Warrior\n"
     ]
    }
   ],
   "source": [
    "tokenizer = Tokenizer()\n",
    "tokenizer.fit_on_texts(sampled_entries)\n",
    "total_words = len(tokenizer.word_index) + 1\n",
    "\n",
    "print(total_words) # VOCAB SIZE\n",
    "print(tokenizer.to_json())"
   ]
  },
  {
   "cell_type": "code",
   "execution_count": null,
   "outputs": [],
   "source": [
    "input_sequences = []\n",
    "for entry in sampled_entries:\n",
    "  token_list = tokenizer.texts_to_sequences([entry])[0]\n",
    "  for i in range(1, len(token_list)):\n",
    "    n_gram_sequence = token_list[:i+1]\n",
    "    input_sequences.append(n_gram_sequence)\n",
    "\n",
    "print(len(input_sequences))\n",
    "print(input_sequences[:10])\n",
    "\n",
    "max_sequence_len = max([len(x) for x in input_sequences])\n",
    "print(max_sequence_len)"
   ],
   "metadata": {
    "collapsed": false,
    "pycharm": {
     "name": "#%%\n"
    }
   }
  },
  {
   "cell_type": "code",
   "execution_count": null,
   "outputs": [],
   "source": [
    "#PAD and turn to categorical\n",
    "input_sequences = np.array(pad_sequences(input_sequences, maxlen=max_sequence_len, padding='pre'))\n",
    "predictors, label = input_sequences[:,:-1], input_sequences[:,-1]\n",
    "label = to_categorical(label, num_classes=total_words)"
   ],
   "metadata": {
    "collapsed": false,
    "pycharm": {
     "name": "#%%\n"
    }
   }
  },
  {
   "cell_type": "markdown",
   "source": [
    "LSTM Model"
   ],
   "metadata": {
    "collapsed": false
   }
  },
  {
   "cell_type": "code",
   "execution_count": null,
   "outputs": [],
   "source": [
    "model = Sequential()\n",
    "\n",
    "model.add(Embedding(total_words, 16, input_shape=(max_sequence_len,)))\n",
    "model.add(LSTM(100))\n",
    "model.add(Dense(total_words, activation='softmax'))\n",
    "\n",
    "model.compile(loss='categorical_crossentropy', optimizer='adam')\n",
    "model.summary()"
   ],
   "metadata": {
    "collapsed": false,
    "pycharm": {
     "name": "#%%\n"
    }
   }
  },
  {
   "cell_type": "code",
   "execution_count": null,
   "outputs": [],
   "source": [
    "model.fit(predictors, label, epochs=50, verbose=5)\n"
   ],
   "metadata": {
    "collapsed": false,
    "pycharm": {
     "name": "#%%\n"
    }
   }
  },
  {
   "cell_type": "markdown",
   "source": [
    "GENERATE"
   ],
   "metadata": {
    "collapsed": false
   }
  },
  {
   "cell_type": "code",
   "execution_count": null,
   "outputs": [],
   "source": [
    "text = \"delim conjuring\"\n",
    "\n",
    "delims_seen = 2\n",
    "while delims_seen < 7:\n",
    "  token_list = tokenizer.texts_to_sequences([text])[0]\n",
    "  token_list = pad_sequences([token_list], maxlen=max_sequence_len-1, padding='pre')\n",
    "  predicted = model.predict(token_list, verbose=0)[0]\n",
    "  predicted_index = np.random.choice(len(predicted), p=predicted)\n",
    "\n",
    "  out_word = \"\"\n",
    "  for word, index in tokenizer.word_index.items():\n",
    "    if index == predicted_index:\n",
    "      out_word = word\n",
    "      break\n",
    "  if out_word == \"delim\":\n",
    "    delims_seen += 1\n",
    "  text += \" \" + out_word\n",
    "\n",
    "cleaned_text = text.replace(\"delim\", \"|\")\n",
    "print(cleaned_text)"
   ],
   "metadata": {
    "collapsed": false,
    "pycharm": {
     "name": "#%%\n"
    }
   }
  }
 ],
 "metadata": {
  "kernelspec": {
   "display_name": "Python 3 (ipykernel)",
   "language": "python",
   "name": "python3"
  },
  "language_info": {
   "codemirror_mode": {
    "name": "ipython",
    "version": 3
   },
   "file_extension": ".py",
   "mimetype": "text/x-python",
   "name": "python",
   "nbconvert_exporter": "python",
   "pygments_lexer": "ipython3",
   "version": "3.9.6"
  }
 },
 "nbformat": 4,
 "nbformat_minor": 4
}