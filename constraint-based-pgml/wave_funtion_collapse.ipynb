{
 "cells": [
  {
   "cell_type": "code",
   "execution_count": 18,
   "metadata": {},
   "outputs": [],
   "source": [
    "import os\n",
    "\n",
    "from PIL import Image\n",
    "import matplotlib.pyplot as plt\n",
    "import numpy as np"
   ]
  },
  {
   "cell_type": "code",
   "execution_count": 19,
   "metadata": {
    "collapsed": false,
    "jupyter": {
     "outputs_hidden": false
    },
    "pycharm": {
     "name": "#%%\n"
    }
   },
   "outputs": [
    {
     "data": {
      "image/png": "[encoded data removed]",
      "text/plain": [
       "<Figure size 800x800 with 3 Axes>"
      ]
     },
     "metadata": {},
     "output_type": "display_data"
    }
   ],
   "source": [
    "# Create Tile Set\n",
    "colors = [\n",
    "    (100,100,100), # gray\n",
    "    (0,0,0), # black\n",
    "    (255,0,0), # red\n",
    "]\n",
    "\n",
    "base_tiles = []\n",
    "base_tile_dim = 16\n",
    "for i in range(len(colors)):\n",
    "    tile = Image.new(\"RGB\", (base_tile_dim, base_tile_dim))\n",
    "    for x in range(base_tile_dim):\n",
    "            for y in range(base_tile_dim):\n",
    "                tile.putpixel((x, y), colors[i])\n",
    "    base_tiles.append(tile)\n",
    "\n",
    "fig, axs = plt.subplots(1, len(colors), figsize=(8, 8))\n",
    "\n",
    "\n",
    "for col in range(len(colors)):\n",
    "    axs[col].imshow(base_tiles[col])\n",
    "    axs[col].axis('off')\n",
    "\n",
    "plt.subplots_adjust(wspace=0.1, hspace=0.1)\n",
    "\n",
    "plt.show()"
   ]
  },
  {
   "cell_type": "code",
   "execution_count": 20,
   "metadata": {
    "collapsed": false,
    "jupyter": {
     "outputs_hidden": false
    },
    "pycharm": {
     "name": "#%%\n"
    }
   },
   "outputs": [
    {
     "data": {
      "image/png": "[encoded data removed]",
      "text/plain": [
       "<Figure size 640x480 with 1 Axes>"
      ]
     },
     "metadata": {},
     "output_type": "display_data"
    }
   ],
   "source": [
    "#Create sample image\n",
    "blocks = [\n",
    "    [0,0,0,0],\n",
    "    [0,1,1,1],\n",
    "    [0,1,2,1],\n",
    "    [0,1,1,1],\n",
    "]\n",
    "\n",
    "\n",
    "image = Image.new(\"RGB\", (16 * len(blocks), 16 * len(blocks)))\n",
    "\n",
    "for block_row in range(len(blocks)):\n",
    "    for block_col in range(len(blocks[0])):\n",
    "         for x in range(16):\n",
    "            for y in range(16):\n",
    "                color = base_tiles[blocks[block_row][block_col]].getpixel((x * (base_tile_dim // 16), y * (base_tile_dim // 16)))\n",
    "                image.putpixel((block_col * 16 + x, block_row * 16 + y), color)\n",
    "\n",
    "plt.imshow(image)\n",
    "plt.axis('off')  # Hide the axes\n",
    "plt.show()"
   ]
  },
  {
   "cell_type": "markdown",
   "metadata": {
    "collapsed": false,
    "jupyter": {
     "outputs_hidden": false
    }
   },
   "source": [
    "# Extract"
   ]
  },
  {
   "cell_type": "code",
   "execution_count": 21,
   "metadata": {
    "collapsed": false,
    "jupyter": {
     "outputs_hidden": false
    },
    "pycharm": {
     "name": "#%%\n"
    }
   },
   "outputs": [],
   "source": [
    "overlap_images = []\n",
    "overlap_blocks = []\n",
    "overlap_image_dim = 4 * image.size[0] // (len(blocks))\n",
    "for block_row in range(len(blocks)):\n",
    "    for block_col in range(len(blocks[0])):\n",
    "        overlap_block = [\n",
    "            [blocks[block_row][block_col], blocks[block_row][(block_col + 1) % len(blocks[0])]],\n",
    "            [blocks[(block_row + 1) % len(blocks)][block_col], blocks[(block_row + 1) % len(blocks)][(block_col + 1) % len(blocks[0])]]\n",
    "        ]\n",
    "        overlap_blocks.append(overlap_block)\n",
    "\n",
    "        overlap_image = Image.new(\"RGB\", (overlap_image_dim,overlap_image_dim))\n",
    "        for x in range(overlap_image_dim):\n",
    "            for y in range(overlap_image_dim):\n",
    "                tile = base_tiles[overlap_block[y // 32][x // 32]]\n",
    "                color = tile.getpixel((x * (base_tile_dim // overlap_image_dim), y * (base_tile_dim // overlap_image_dim)))\n",
    "                overlap_image.putpixel((x, y), color)\n",
    "        overlap_images.append(overlap_image)"
   ]
  },
  {
   "cell_type": "code",
   "execution_count": 22,
   "metadata": {
    "collapsed": false,
    "jupyter": {
     "outputs_hidden": false
    },
    "pycharm": {
     "name": "#%%\n"
    }
   },
   "outputs": [
    {
     "data": {
      "image/png": "[encoded data removed]",
      "text/plain": [
       "<Figure size 800x800 with 64 Axes>"
      ]
     },
     "metadata": {},
     "output_type": "display_data"
    }
   ],
   "source": [
    "fig, axs = plt.subplots(len(blocks), len(blocks), figsize=(8, 8))\n",
    "\n",
    "for i in range(len(blocks)):\n",
    "    for j in range(len(blocks)):\n",
    "        axs[i, j].imshow(overlap_images[i * len(blocks) + j])\n",
    "        axs[i, j].axis('off')\n",
    "\n",
    "plt.subplots_adjust(wspace=0.1, hspace=0.1)\n",
    "\n",
    "plt.show()"
   ]
  },
  {
   "cell_type": "markdown",
   "metadata": {
    "collapsed": false,
    "jupyter": {
     "outputs_hidden": false
    },
    "pycharm": {
     "name": "#%% md\n"
    }
   },
   "source": [
    "# Initialize"
   ]
  },
  {
   "cell_type": "code",
   "execution_count": 23,
   "metadata": {
    "collapsed": false,
    "jupyter": {
     "outputs_hidden": false
    },
    "pycharm": {
     "name": "#%%\n"
    }
   },
   "outputs": [
    {
     "data": {
      "image/png": "[encoded data removed]",
      "text/plain": [
       "<Figure size 640x480 with 1 Axes>"
      ]
     },
     "metadata": {},
     "output_type": "display_data"
    }
   ],
   "source": [
    "def visualize(grid, size):\n",
    "    image = Image.new(\"RGB\", (16 * size, 16 * size))\n",
    "    for row in range(size):\n",
    "        for col in range(size):\n",
    "            if len(grid[row][col]) == 1:\n",
    "                overlap_block_index = grid[row][col][0]\n",
    "                tile = base_tiles[overlap_blocks[overlap_block_index][0][0]]\n",
    "                for x in range(16):\n",
    "                    for y in range(16):\n",
    "                        color = tile.getpixel((x * (base_tile_dim // 16), y * (base_tile_dim // 16)))\n",
    "                        image.putpixel((col * 16 + x, row * 16 + y), color)\n",
    "            else:\n",
    "                color = (255,255,255)\n",
    "                for x in range(16):\n",
    "                    for y in range(16):\n",
    "                        image.putpixel((col * 16 + x, row * 16 + y), color)\n",
    "    plt.imshow(image)\n",
    "    plt.axis('off')\n",
    "    plt.show()\n",
    "\n",
    "size = 4\n",
    "grid = []\n",
    "for i in range(size):\n",
    "    grid.append([[i for i in range(len(overlap_images))]] * size)\n",
    "visualize(grid, size)"
   ]
  },
  {
   "cell_type": "markdown",
   "metadata": {
    "collapsed": false,
    "jupyter": {
     "outputs_hidden": false
    },
    "pycharm": {
     "name": "#%% md\n"
    }
   },
   "source": [
    "# Observe"
   ]
  },
  {
   "cell_type": "code",
   "execution_count": 24,
   "metadata": {
    "collapsed": false,
    "jupyter": {
     "outputs_hidden": false
    },
    "pycharm": {
     "name": "#%%\n"
    }
   },
   "outputs": [
    {
     "data": {
      "image/png": "[encoded data removed]",
      "text/plain": [
       "<Figure size 640x480 with 1 Axes>"
      ]
     },
     "metadata": {},
     "output_type": "display_data"
    }
   ],
   "source": [
    "def observe(grid):\n",
    "    entropies = [len(arr) for row in grid for arr in row if len(arr) > 1]\n",
    "    if len(entropies) == 0:\n",
    "        return -1, -1\n",
    "    min_entropy = min(entropies)\n",
    "\n",
    "    collapsable_indices = []\n",
    "    for row in range(len(grid)):\n",
    "        for col in range(len(grid[0])):\n",
    "            if len(grid[row][col]) == min_entropy:\n",
    "                collapsable_indices.append((row, col))\n",
    "\n",
    "    cell_index = np.random.choice([i for i in range(len(collapsable_indices))])\n",
    "    row_to_collapse, col_to_collapse = collapsable_indices[cell_index]\n",
    "\n",
    "    option_index = np.random.choice([i for i in range(len(grid[row_to_collapse][col_to_collapse]))])\n",
    "    grid[row_to_collapse][col_to_collapse] = [grid[row_to_collapse][col_to_collapse][option_index]]\n",
    "    return row_to_collapse, col_to_collapse\n",
    "\n",
    "collapsed_row, collapsed_col = observe(grid)\n",
    "visualize(grid, size)"
   ]
  },
  {
   "cell_type": "markdown",
   "metadata": {
    "collapsed": false,
    "jupyter": {
     "outputs_hidden": false
    }
   },
   "source": [
    "# Propagate"
   ]
  },
  {
   "cell_type": "code",
   "execution_count": 25,
   "metadata": {
    "collapsed": false,
    "jupyter": {
     "outputs_hidden": false
    },
    "pycharm": {
     "name": "#%%\n"
    }
   },
   "outputs": [
    {
     "data": {
      "image/png": "[encoded data removed]",
      "text/plain": [
       "<Figure size 640x480 with 1 Axes>"
      ]
     },
     "metadata": {},
     "output_type": "display_data"
    }
   ],
   "source": [
    "def get_adjacency_rules(options, overlap_blocks, direction):\n",
    "    self_pixels_to_test = [(0,0), (0,0)]\n",
    "    other_pixels_to_test = [(0,0), (0,0)]\n",
    "\n",
    "    if direction == \"up\":\n",
    "        self_pixels_to_test = [(0,0), (0,1)]\n",
    "        other_pixels_to_test = [(1,0), (1,1)]\n",
    "    elif direction == \"right\":\n",
    "        self_pixels_to_test = [(0,1), (1,1)]\n",
    "        other_pixels_to_test = [(0,0), (1,0)]\n",
    "    if direction == \"down\":\n",
    "        self_pixels_to_test = [(1,1), (1,0)]\n",
    "        other_pixels_to_test = [(0,1), (0,0)]\n",
    "    elif direction == \"left\":\n",
    "        self_pixels_to_test = [(1,0), (0,0)]\n",
    "        other_pixels_to_test = [(1,1), (0,1)]\n",
    "\n",
    "    adjacency_options = set([])\n",
    "    for option in options:\n",
    "        pattern = [overlap_blocks[option][self_pixels_to_test[0][0]][self_pixels_to_test[0][1]], overlap_blocks[option][self_pixels_to_test[1][0]][self_pixels_to_test[1][1]]]\n",
    "        for block_index in range(len(overlap_blocks)):\n",
    "           check_pattern = [overlap_blocks[block_index][other_pixels_to_test[0][0]][other_pixels_to_test[0][1]], overlap_blocks[block_index][other_pixels_to_test[1][0]][other_pixels_to_test[1][1]]]\n",
    "           if pattern[0] == check_pattern[0] and pattern[1] == check_pattern[1]:\n",
    "               adjacency_options.add(block_index)\n",
    "\n",
    "    return list(adjacency_options)\n",
    "\n",
    "def propagate(grid, overlap_blocks, collapsed_row, collapsed_col, direction):\n",
    "    row = 0\n",
    "    col = 0\n",
    "    if direction == \"up\":\n",
    "        row = collapsed_row - 1\n",
    "        col = collapsed_col\n",
    "    elif direction == \"right\":\n",
    "        row = collapsed_row\n",
    "        col = collapsed_col + 1\n",
    "    if direction == \"down\":\n",
    "        row = collapsed_row + 1\n",
    "        col = collapsed_col\n",
    "    elif direction == \"left\":\n",
    "        row = collapsed_row\n",
    "        col = collapsed_col - 1\n",
    "\n",
    "    if row < 0 or col < 0 or row >= len(grid) or col >= len(grid):\n",
    "        return\n",
    "\n",
    "    current_options = grid[row][col]\n",
    "    new_adjacency_options = get_adjacency_rules(grid[collapsed_row][collapsed_col], overlap_blocks, direction)\n",
    "\n",
    "    new_options = list(set(current_options) & set(new_adjacency_options))\n",
    "    if len(new_options) == 0:\n",
    "        raise RuntimeError(\"No Solution Available\")\n",
    "    if len(new_options) != len(current_options):\n",
    "        grid[row][col] = new_options\n",
    "        propagate(grid, overlap_blocks, row, col, \"up\")\n",
    "        propagate(grid, overlap_blocks, row, col, \"right\")\n",
    "        propagate(grid, overlap_blocks, row, col, \"down\")\n",
    "        propagate(grid, overlap_blocks, row, col, \"left\")\n",
    "\n",
    "propagate(grid, overlap_blocks, collapsed_row, collapsed_col, \"up\")\n",
    "propagate(grid, overlap_blocks, collapsed_row, collapsed_col, \"right\")\n",
    "propagate(grid, overlap_blocks, collapsed_row, collapsed_col, \"down\")\n",
    "propagate(grid, overlap_blocks, collapsed_row, collapsed_col, \"left\")\n",
    "visualize(grid, size)"
   ]
  },
  {
   "cell_type": "markdown",
   "metadata": {
    "collapsed": false,
    "jupyter": {
     "outputs_hidden": false
    }
   },
   "source": [
    "# All Together"
   ]
  },
  {
   "cell_type": "code",
   "execution_count": 26,
   "metadata": {
    "collapsed": false,
    "jupyter": {
     "outputs_hidden": false
    },
    "pycharm": {
     "name": "#%%\n"
    }
   },
   "outputs": [
    {
     "data": {
      "image/png": "[encoded data removed]",
      "text/plain": [
       "<Figure size 640x480 with 1 Axes>"
      ]
     },
     "metadata": {},
     "output_type": "display_data"
    }
   ],
   "source": [
    "max_attempts = 10\n",
    "attempt = 0\n",
    "while True:\n",
    "    size = 20\n",
    "    grid = []\n",
    "    for i in range(size):\n",
    "        grid.append([[i for i in range(len(overlap_images))]] * size)\n",
    "    try:\n",
    "        collapsed_row, collapsed_col = observe(grid)\n",
    "        while collapsed_row != -1:\n",
    "            propagate(grid, overlap_blocks, collapsed_row, collapsed_col, \"up\")\n",
    "            propagate(grid, overlap_blocks, collapsed_row, collapsed_col, \"right\")\n",
    "            propagate(grid, overlap_blocks, collapsed_row, collapsed_col, \"down\")\n",
    "            propagate(grid, overlap_blocks, collapsed_row, collapsed_col, \"left\")\n",
    "\n",
    "            collapsed_row, collapsed_col = observe(grid)\n",
    "        break\n",
    "    except:\n",
    "        if attempt < max_attempts:\n",
    "            print(\"No Solution, Retrying...\")\n",
    "            attempt += 1\n",
    "        else:\n",
    "            break\n",
    "            \n",
    "visualize(grid, size)\n"
   ]
  }
 ],
 "metadata": {
  "kernelspec": {
   "display_name": "Python 3 (ipykernel)",
   "language": "python",
   "name": "python3"
  },
  "language_info": {
   "codemirror_mode": {
    "name": "ipython",
    "version": 3
   },
   "file_extension": ".py",
   "mimetype": "text/x-python",
   "name": "python",
   "nbconvert_exporter": "python",
   "pygments_lexer": "ipython3",
   "version": "3.9.6"
  }
 },
 "nbformat": 4,
 "nbformat_minor": 4
}