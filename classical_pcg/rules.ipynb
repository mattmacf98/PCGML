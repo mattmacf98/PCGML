{
 "cells": [
  {
   "cell_type": "code",
   "execution_count": null,
   "metadata": {
    "collapsed": true
   },
   "outputs": [],
   "source": [
    "import numpy as np\n",
    "import math"
   ]
  },
  {
   "cell_type": "code",
   "execution_count": null,
   "outputs": [],
   "source": [
    "locations = [\"Tiny Woods\", \"ThunderWave Cave\", \"Mt. Steam\"]\n",
    "types = [\"escort\", \"rescue\", \"defeat\"]\n",
    "pokemon = [\"wurmple\", \"diglett\", \"magnemite\", \"nidoran\"]\n",
    "floors = {\n",
    "    \"Tiny Woods\": 4,\n",
    "    \"ThunderWave Cave\": 8,\n",
    "    \"Mt. Steam\": 12\n",
    "}\n",
    "\n",
    "diff_to_rewards = {\n",
    "    10: [\"potion\", \"seed\"],\n",
    "    20: [ \"gummi\", \"orb\"],\n",
    "    30: [\"scarf\"],\n",
    "    50: [\"TM\"]\n",
    "}"
   ],
   "metadata": {
    "collapsed": false,
    "pycharm": {
     "name": "#%%\n"
    }
   }
  },
  {
   "cell_type": "code",
   "execution_count": null,
   "outputs": [],
   "source": [
    "location = np.random.choice(locations)\n",
    "print(location)\n",
    "typ = np.random.choice(types)\n",
    "print(typ)\n",
    "subject = np.random.choice(pokemon)\n",
    "print(subject)"
   ],
   "metadata": {
    "collapsed": false,
    "pycharm": {
     "name": "#%%\n"
    }
   }
  },
  {
   "cell_type": "code",
   "execution_count": null,
   "outputs": [],
   "source": [
    "floor = np.random.randint(1, floors[location])\n",
    "print(floor)"
   ],
   "metadata": {
    "collapsed": false,
    "pycharm": {
     "name": "#%%\n"
    }
   }
  },
  {
   "cell_type": "code",
   "execution_count": null,
   "outputs": [],
   "source": [
    "difficulty = 0\n",
    "\n",
    "if location == \"Tiny Woods\":\n",
    "    difficulty += 5 + floor\n",
    "elif location == \"ThunderWave Cave\":\n",
    "    difficulty += 10 + math.floor(floor * 1.5)\n",
    "elif location == \"Mt. Steam\":\n",
    "    difficulty += 20 + 2 * floor\n",
    "\n",
    "if typ == \"rescue\":\n",
    "    difficulty += 5\n",
    "elif typ == \"escort\" or \"defeat\":\n",
    "    difficulty += 10\n",
    "\n",
    "possible_rewards = []\n",
    "if difficulty >= 50:\n",
    "    possible_rewards = diff_to_rewards[50]\n",
    "elif difficulty >= 30:\n",
    "    possible_rewards = diff_to_rewards[30]\n",
    "elif difficulty >= 20:\n",
    "    possible_rewards = diff_to_rewards[20]\n",
    "elif difficulty >= 10:\n",
    "    possible_rewards = diff_to_rewards[10]\n",
    "\n",
    "reward = np.random.choice(possible_rewards)"
   ],
   "metadata": {
    "collapsed": false,
    "pycharm": {
     "name": "#%%\n"
    }
   }
  },
  {
   "cell_type": "code",
   "execution_count": null,
   "outputs": [],
   "source": [
    "print(f\"{typ} {subject} at {location} Floor {floor} to receive a {reward}\")"
   ],
   "metadata": {
    "collapsed": false,
    "pycharm": {
     "name": "#%%\n"
    }
   }
  }
 ],
 "metadata": {
  "kernelspec": {
   "display_name": "Python 3",
   "language": "python",
   "name": "python3"
  },
  "language_info": {
   "codemirror_mode": {
    "name": "ipython",
    "version": 2
   },
   "file_extension": ".py",
   "mimetype": "text/x-python",
   "name": "python",
   "nbconvert_exporter": "python",
   "pygments_lexer": "ipython2",
   "version": "2.7.6"
  }
 },
 "nbformat": 4,
 "nbformat_minor": 0
}