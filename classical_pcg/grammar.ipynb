{
 "cells": [
  {
   "cell_type": "code",
   "execution_count": 2,
   "metadata": {
    "collapsed": false,
    "jupyter": {
     "outputs_hidden": false
    },
    "pycharm": {
     "name": "#%%\n"
    }
   },
   "outputs": [],
   "source": [
    "import numpy as np"
   ]
  },
  {
   "cell_type": "code",
   "execution_count": 80,
   "metadata": {},
   "outputs": [
    {
     "name": "stdout",
     "output_type": "stream",
     "text": [
      "|\n",
      "|\\\n",
      "| *\n",
      "|  \n",
      "|\\  \n",
      " \\ *  \n",
      "  \\    \n",
      "        \n"
     ]
    }
   ],
   "source": [
    "rules = {\n",
    "    '|': ['|', '|\\\\', ' \\\\'],\n",
    "    '\\\\': ['  ', ' *', ' \\\\'],\n",
    "    '*': [' ']\n",
    "}\n",
    "\n",
    "symbols = '|'\n",
    "\n",
    "while True:\n",
    "    print(symbols)\n",
    "    expansions = 0\n",
    "    next_gen = ''\n",
    "    for c in symbols:\n",
    "        if c in rules:\n",
    "            options = rules[c]\n",
    "            choice = np.random.choice(options)\n",
    "            next_gen += choice\n",
    "            expansions += 1\n",
    "        else:\n",
    "            next_gen += c\n",
    "\n",
    "    if expansions == 0:\n",
    "        break\n",
    "    else: symbols = next_gen"
   ]
  }
 ],
 "metadata": {
  "kernelspec": {
   "display_name": "Python 3 (ipykernel)",
   "language": "python",
   "name": "python3"
  },
  "language_info": {
   "codemirror_mode": {
    "name": "ipython",
    "version": 3
   },
   "file_extension": ".py",
   "mimetype": "text/x-python",
   "name": "python",
   "nbconvert_exporter": "python",
   "pygments_lexer": "ipython3",
   "version": "3.9.6"
  }
 },
 "nbformat": 4,
 "nbformat_minor": 4
}
