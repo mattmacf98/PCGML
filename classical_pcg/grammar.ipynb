{
 "cells": [
  {
   "cell_type": "code",
   "execution_count": null,
   "outputs": [],
   "source": [
    "import numpy as np"
   ],
   "metadata": {
    "collapsed": false,
    "pycharm": {
     "name": "#%%\n"
    }
   }
  },
  {
   "cell_type": "code",
   "execution_count": null,
   "metadata": {
    "collapsed": true
   },
   "outputs": [],
   "source": [
    "rules = {\n",
    "    '|': ['|', '|\\\\', ' \\\\'],\n",
    "    '\\\\': ['  ', ' *', ' \\\\'],\n",
    "    '*': [' ']\n",
    "}\n",
    "\n",
    "symbols = '|'\n",
    "\n",
    "while True:\n",
    "    print(symbols)\n",
    "    expansions = 0\n",
    "    next_gen = ''\n",
    "    for c in symbols:\n",
    "        if c in rules:\n",
    "            options = rules[c]\n",
    "            choice = np.random.choice(options)\n",
    "            next_gen += choice\n",
    "            expansions += 1\n",
    "        else:\n",
    "            next_gen += c\n",
    "\n",
    "    if expansions == 0:\n",
    "        break\n",
    "    else: symbols = next_gen"
   ]
  }
 ],
 "metadata": {
  "kernelspec": {
   "display_name": "Python 3",
   "language": "python",
   "name": "python3"
  },
  "language_info": {
   "codemirror_mode": {
    "name": "ipython",
    "version": 2
   },
   "file_extension": ".py",
   "mimetype": "text/x-python",
   "name": "python",
   "nbconvert_exporter": "python",
   "pygments_lexer": "ipython2",
   "version": "2.7.6"
  }
 },
 "nbformat": 4,
 "nbformat_minor": 0
}