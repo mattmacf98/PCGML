{
 "cells": [
  {
   "cell_type": "code",
   "execution_count": null,
   "outputs": [],
   "source": [
    "import plotly.graph_objects as go\n",
    "import math\n",
    "import numpy as np"
   ],
   "metadata": {
    "collapsed": false,
    "pycharm": {
     "name": "#%%\n"
    }
   }
  },
  {
   "cell_type": "code",
   "execution_count": null,
   "metadata": {
    "collapsed": true
   },
   "outputs": [],
   "source": [
    "def fitness(damage, time_to_attack):\n",
    "    return (damage**3 - damage)/10 + time_to_attack * 5"
   ]
  },
  {
   "cell_type": "code",
   "execution_count": null,
   "outputs": [],
   "source": [
    "damage = np.linspace(0, 10, 100)\n",
    "time_to_attack = np.linspace(0, 10, 100)\n",
    "\n",
    "damage_grid, time_to_attack_grid = np.meshgrid(damage, time_to_attack)\n",
    "fitness_values = fitness(damage_grid, time_to_attack_grid)\n",
    "\n",
    "fig = go.Figure(data=[go.Surface(z=fitness_values, x=damage_grid, y=time_to_attack_grid)])\n",
    "\n",
    "# Set plot labels and title\n",
    "fig.update_layout(\n",
    "    title='Fitness Function Surface Plot',\n",
    "    scene=dict(\n",
    "        xaxis_title='Damage',\n",
    "        yaxis_title='Time to Attack',\n",
    "        zaxis_title='Fitness'\n",
    "    )\n",
    ")\n",
    "\n",
    "# Show the plot\n",
    "fig.show()"
   ],
   "metadata": {
    "collapsed": false,
    "pycharm": {
     "name": "#%%\n"
    }
   }
  },
  {
   "cell_type": "markdown",
   "source": [
    "## HILL CLIMBING"
   ],
   "metadata": {
    "collapsed": false
   }
  },
  {
   "cell_type": "code",
   "execution_count": null,
   "outputs": [],
   "source": [
    "# pick random position\n",
    "weapon_damage = np.random.randint(0,11)\n",
    "weapon_tta = np.random.randint(0,11)\n",
    "weapon_fitness = fitness(weapon_damage, weapon_tta)\n",
    "\n",
    "def clamp(value, min_value, max_value):\n",
    "    return max(min_value, min(value, max_value))\n",
    "\n",
    "while True:\n",
    "    # check if there is an adjacent better fitness coordinate\n",
    "    best_fitness = weapon_fitness\n",
    "    weapon_tuple = (weapon_damage, weapon_tta)\n",
    "    for d in [-1,0,1]:\n",
    "        for t in [-1,0,1]:\n",
    "            candidate_fitness = fitness(clamp(weapon_damage + d, 0, 10), clamp(weapon_tta + t, 0, 10))\n",
    "            if candidate_fitness > best_fitness:\n",
    "                best_fitness = candidate_fitness\n",
    "                weapon_tuple = (clamp(weapon_damage + d, 0, 10), clamp(weapon_tta + t, 0, 10))\n",
    "\n",
    "    # finish if we have not moved\n",
    "    if weapon_tuple[0] == weapon_damage and weapon_tuple[1] == weapon_tta:\n",
    "        break\n",
    "\n",
    "    # move to best found coordinate\n",
    "    weapon_damage = weapon_tuple[0]\n",
    "    weapon_tta = weapon_tuple[1]\n",
    "    weapon_fitness = fitness(weapon_damage, weapon_tta)\n",
    "\n",
    "print(f\"Best weapon damage={weapon_damage} time_to_attack={weapon_tta}\")"
   ],
   "metadata": {
    "collapsed": false,
    "pycharm": {
     "name": "#%%\n"
    }
   }
  },
  {
   "cell_type": "code",
   "execution_count": null,
   "outputs": [],
   "source": [
    "fig = go.Figure(data=[go.Surface(z=fitness_values, x=damage_grid, y=time_to_attack_grid)])\n",
    "\n",
    "fig.add_trace(go.Scatter3d(\n",
    "    x=[weapon_damage],\n",
    "    y=[weapon_tta],\n",
    "    z=[weapon_fitness],\n",
    "    mode='markers',\n",
    "    marker=dict(size=10, color='red', symbol='cross')\n",
    "))\n",
    "\n",
    "# Set plot labels and title\n",
    "fig.update_layout(\n",
    "    title='Fitness Function Surface Plot',\n",
    "    scene=dict(\n",
    "        xaxis_title='Damage',\n",
    "        yaxis_title='Time to Attack',\n",
    "        zaxis_title='Fitness'\n",
    "    )\n",
    ")\n",
    "\n",
    "# Show the plot\n",
    "fig.show()"
   ],
   "metadata": {
    "collapsed": false,
    "pycharm": {
     "name": "#%%\n"
    }
   }
  },
  {
   "cell_type": "markdown",
   "source": [
    "## Evolution"
   ],
   "metadata": {
    "collapsed": false
   }
  },
  {
   "cell_type": "code",
   "execution_count": null,
   "outputs": [],
   "source": [
    "population_size = 10\n",
    "generations = 10\n",
    "mutation_chance = 0.1\n",
    "population = []\n",
    "\n",
    "def generate_weapon(damage, time_to_attack):\n",
    "    fit = fitness(damage, time_to_attack)\n",
    "    return {\"damage\": damage, \"time_to_attack\": time_to_attack, \"fitness\": fit}\n",
    "\n",
    "def cross_over_and_mutate(pop1, pop2):\n",
    "    dmg = pop1[\"damage\"] if np.random.random() < 0.5 else pop2[\"damage\"]\n",
    "    tta = pop1[\"time_to_attack\"] if np.random.random() < 0.5 else pop2[\"time_to_attack\"]\n",
    "\n",
    "    if np.random.random() < 0.1:\n",
    "        if np.random.random() < 0.5:\n",
    "            dmg = np.random.randint(0,11)\n",
    "        else:\n",
    "            tta = np.random.randint(0,11)\n",
    "\n",
    "    fit = fitness(dmg, tta)\n",
    "    return {\"damage\": dmg, \"time_to_attack\": tta, \"fitness\": fit}\n",
    "\n",
    "\n",
    "for i in range(population_size):\n",
    "    population.append(generate_weapon(np.random.randint(0,11), np.random.randint(0,11)))\n",
    "\n",
    "for i in range(generations):\n",
    "    next_generation = []\n",
    "    for p in range(population_size):\n",
    "        random_numbers = np.random.randint(0, population_size, size=2)\n",
    "        next_generation.append(cross_over_and_mutate(population[random_numbers[0]], population[random_numbers[1]]))\n",
    "\n",
    "    population.extend(next_generation)\n",
    "    sorted_population = sorted(population, key=lambda x: x[\"fitness\"])\n",
    "\n",
    "    population = sorted_population[-1*population_size:]\n",
    "\n",
    "sorted_population = sorted(population, key=lambda x: x[\"fitness\"])\n",
    "print(sorted_population[0])"
   ],
   "metadata": {
    "collapsed": false,
    "pycharm": {
     "name": "#%%\n"
    }
   }
  },
  {
   "cell_type": "code",
   "execution_count": null,
   "outputs": [],
   "source": [
    "fig = go.Figure(data=[go.Surface(z=fitness_values, x=damage_grid, y=time_to_attack_grid)])\n",
    "\n",
    "fig.add_trace(go.Scatter3d(\n",
    "    x=[sorted_population[0][\"damage\"]],\n",
    "    y=[sorted_population[0][\"time_to_attack\"]],\n",
    "    z=[sorted_population[0][\"fitness\"]],\n",
    "    mode='markers',\n",
    "    marker=dict(size=10, color='red', symbol='cross')\n",
    "))\n",
    "\n",
    "# Set plot labels and title\n",
    "fig.update_layout(\n",
    "    title='Fitness Function Surface Plot',\n",
    "    scene=dict(\n",
    "        xaxis_title='Damage',\n",
    "        yaxis_title='Time to Attack',\n",
    "        zaxis_title='Fitness'\n",
    "    )\n",
    ")"
   ],
   "metadata": {
    "collapsed": false,
    "pycharm": {
     "name": "#%%\n"
    }
   }
  }
 ],
 "metadata": {
  "kernelspec": {
   "display_name": "Python 3",
   "language": "python",
   "name": "python3"
  },
  "language_info": {
   "codemirror_mode": {
    "name": "ipython",
    "version": 2
   },
   "file_extension": ".py",
   "mimetype": "text/x-python",
   "name": "python",
   "nbconvert_exporter": "python",
   "pygments_lexer": "ipython2",
   "version": "2.7.6"
  }
 },
 "nbformat": 4,
 "nbformat_minor": 0
}