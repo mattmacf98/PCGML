{
 "cells": [
  {
   "cell_type": "code",
   "execution_count": 1,
   "metadata": {
    "collapsed": false,
    "jupyter": {
     "outputs_hidden": false
    },
    "pycharm": {
     "name": "#%%\n"
    }
   },
   "outputs": [],
   "source": [
    "import numpy as np\n",
    "import re\n",
    "import math"
   ]
  },
  {
   "cell_type": "code",
   "execution_count": 2,
   "metadata": {},
   "outputs": [],
   "source": [
    "with open('./words.txt') as f:\n",
    "    words = f.read().splitlines()\n",
    "    cleaned_words = [word.lower() for word in words if ',' not in word and '.' not in word]"
   ]
  },
  {
   "cell_type": "code",
   "execution_count": 3,
   "metadata": {
    "collapsed": false,
    "jupyter": {
     "outputs_hidden": false
    },
    "pycharm": {
     "name": "#%%\n"
    }
   },
   "outputs": [],
   "source": [
    "def generate_palindrome(word_len, corpus):\n",
    "    # init the palindrome\n",
    "    potential_words = [word for word in corpus if len(word) == word_len]\n",
    "    print(f\"{len(potential_words)} {word_len} letter words available\")\n",
    "    alphabet = 'abcdefghijklmnopqrstuvwxyz'\n",
    "    possible_solutions = [list(alphabet) for i in range(word_len)]\n",
    "\n",
    "    while True:\n",
    "        # get char to collapse\n",
    "        condition = np.array([len(char_options) for char_options in possible_solutions]) != 1\n",
    "        collapsable_indices = np.where(condition)[0]\n",
    "        index_to_collapse = np.random.choice(collapsable_indices)\n",
    "\n",
    "        # collapse the character and the corresponding char for the pallindrome\n",
    "        character_choice = np.random.choice(possible_solutions[index_to_collapse])\n",
    "        possible_solutions[index_to_collapse] = [character_choice]\n",
    "        possible_solutions[word_len - 1 - index_to_collapse] = [character_choice]\n",
    "\n",
    "        # get remaining valid corpus\n",
    "        template_word = ['.'] * word_len\n",
    "        for i in range(word_len):\n",
    "            if len(possible_solutions[i]) == 1:\n",
    "                template_word[i] = possible_solutions[i][0]\n",
    "        pattern = ''.join(template_word)\n",
    "        regex = re.compile(pattern)\n",
    "\n",
    "        potential_words = [word for word in potential_words if regex.match(word)]\n",
    "        print(f\"{len(potential_words)} words available matching {pattern}\")\n",
    "\n",
    "        # update character options\n",
    "        for i in range(math.ceil(word_len/2)):\n",
    "            if len(possible_solutions[i]) != 1:\n",
    "                potential_chars = set([word[i] for word in potential_words])\n",
    "                compliment_potential_chars = set([word[word_len - 1 - i] for word in potential_words])\n",
    "                new_character_choices = potential_chars & compliment_potential_chars\n",
    "                if len(new_character_choices) == 0:\n",
    "                    raise RuntimeError(\"Generation Failed\")\n",
    "                possible_solutions[i] = list(new_character_choices)\n",
    "                possible_solutions[word_len - 1 - i] = list(new_character_choices)\n",
    "\n",
    "        # if we are done => break\n",
    "        if np.all([len(char_options) == 1 for char_options in possible_solutions]):\n",
    "            break\n",
    "\n",
    "    final_word = [arr[0] for arr in possible_solutions]\n",
    "    return ''.join(final_word)"
   ]
  },
  {
   "cell_type": "code",
   "execution_count": 4,
   "metadata": {
    "collapsed": false,
    "jupyter": {
     "outputs_hidden": false
    },
    "pycharm": {
     "name": "#%%\n"
    }
   },
   "outputs": [
    {
     "name": "stdout",
     "output_type": "stream",
     "text": [
      "52050 7 letter words available\n",
      "39 words available matching k.....k\n",
      "0 words available matching k.o.o.k\n",
      "Failed To Generate Restarting...\n",
      "52050 7 letter words available\n",
      "203 words available matching .u...u.\n",
      "0 words available matching .ul.lu.\n",
      "Failed To Generate Restarting...\n",
      "52050 7 letter words available\n",
      "0 words available matching j.....j\n",
      "Failed To Generate Restarting...\n",
      "52050 7 letter words available\n",
      "8 words available matching ..h.h..\n",
      "0 words available matching nah.han\n",
      "Failed To Generate Restarting...\n",
      "52050 7 letter words available\n",
      "959 words available matching s.....s\n",
      "4 words available matching so...os\n",
      "1 words available matching sooloos\n",
      "Final Word sooloos\n"
     ]
    }
   ],
   "source": [
    "final_word = ''\n",
    "while final_word == '':\n",
    "    try:\n",
    "        final_word = generate_palindrome(7, cleaned_words)\n",
    "    except:\n",
    "        print(\"Failed To Generate Restarting...\")\n",
    "        continue\n",
    "print(f\"Final Word {final_word}\")"
   ]
  }
 ],
 "metadata": {
  "kernelspec": {
   "display_name": "Python 3 (ipykernel)",
   "language": "python",
   "name": "python3"
  },
  "language_info": {
   "codemirror_mode": {
    "name": "ipython",
    "version": 3
   },
   "file_extension": ".py",
   "mimetype": "text/x-python",
   "name": "python",
   "nbconvert_exporter": "python",
   "pygments_lexer": "ipython3",
   "version": "3.9.6"
  }
 },
 "nbformat": 4,
 "nbformat_minor": 4
}
