{
 "cells": [
  {
   "cell_type": "code",
   "execution_count": null,
   "outputs": [],
   "source": [
    "import numpy as np\n",
    "import re\n",
    "import math"
   ],
   "metadata": {
    "collapsed": false,
    "pycharm": {
     "name": "#%%\n"
    }
   }
  },
  {
   "cell_type": "code",
   "execution_count": null,
   "metadata": {
    "collapsed": true
   },
   "outputs": [],
   "source": [
    "with open('./words.txt') as f:\n",
    "    words = f.read().splitlines()\n",
    "    cleaned_words = [word.lower() for word in words if ',' not in word and '.' not in word]"
   ]
  },
  {
   "cell_type": "code",
   "execution_count": null,
   "outputs": [],
   "source": [
    "def generate_palindrome(word_len, corpus):\n",
    "    # init the palindrome\n",
    "    potential_words = [word for word in corpus if len(word) == word_len]\n",
    "    print(f\"{len(potential_words)} {word_len} letter words available\")\n",
    "    alphabet = 'abcdefghijklmnopqrstuvwxyz'\n",
    "    possible_solutions = [list(alphabet) for i in range(word_len)]\n",
    "\n",
    "    while True:\n",
    "        # get char to collapse\n",
    "        condition = np.array([len(char_options) for char_options in possible_solutions]) != 1\n",
    "        collapsable_indices = np.where(condition)[0]\n",
    "        index_to_collapse = np.random.choice(collapsable_indices)\n",
    "\n",
    "        # collapse the character and the corresponding char for the pallindrome\n",
    "        character_choice = np.random.choice(possible_solutions[index_to_collapse])\n",
    "        possible_solutions[index_to_collapse] = [character_choice]\n",
    "        possible_solutions[word_len - 1 - index_to_collapse] = [character_choice]\n",
    "\n",
    "        # get remaining valid corpus\n",
    "        template_word = ['.'] * word_len\n",
    "        for i in range(word_len):\n",
    "            if len(possible_solutions[i]) == 1:\n",
    "                template_word[i] = possible_solutions[i][0]\n",
    "        pattern = ''.join(template_word)\n",
    "        regex = re.compile(pattern)\n",
    "\n",
    "        potential_words = [word for word in potential_words if regex.match(word)]\n",
    "        print(f\"{len(potential_words)} words available matching {pattern}\")\n",
    "\n",
    "        # update character options\n",
    "        for i in range(math.ceil(word_len/2)):\n",
    "            if len(possible_solutions[i]) != 1:\n",
    "                potential_chars = set([word[i] for word in potential_words])\n",
    "                compliment_potential_chars = set([word[word_len - 1 - i] for word in potential_words])\n",
    "                new_character_choices = potential_chars & compliment_potential_chars\n",
    "                if len(new_character_choices) == 0:\n",
    "                    raise RuntimeError(\"Generation Failed\")\n",
    "                possible_solutions[i] = list(new_character_choices)\n",
    "                possible_solutions[word_len - 1 - i] = list(new_character_choices)\n",
    "\n",
    "        # if we are done => break\n",
    "        if np.all([len(char_options) == 1 for char_options in possible_solutions]):\n",
    "            break\n",
    "\n",
    "    final_word = [arr[0] for arr in possible_solutions]\n",
    "    return ''.join(final_word)"
   ],
   "metadata": {
    "collapsed": false,
    "pycharm": {
     "name": "#%%\n"
    }
   }
  },
  {
   "cell_type": "code",
   "execution_count": null,
   "outputs": [],
   "source": [
    "final_word = ''\n",
    "while final_word == '':\n",
    "    try:\n",
    "        final_word = generate_palindrome(7, cleaned_words)\n",
    "    except:\n",
    "        print(\"Failed To Generate Restarting...\")\n",
    "        continue\n",
    "print(f\"Final Word {final_word}\")"
   ],
   "metadata": {
    "collapsed": false,
    "pycharm": {
     "name": "#%%\n"
    }
   }
  }
 ],
 "metadata": {
  "kernelspec": {
   "display_name": "Python 3",
   "language": "python",
   "name": "python3"
  },
  "language_info": {
   "codemirror_mode": {
    "name": "ipython",
    "version": 2
   },
   "file_extension": ".py",
   "mimetype": "text/x-python",
   "name": "python",
   "nbconvert_exporter": "python",
   "pygments_lexer": "ipython2",
   "version": "2.7.6"
  }
 },
 "nbformat": 4,
 "nbformat_minor": 0
}